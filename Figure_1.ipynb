{
 "cells": [
  {
   "cell_type": "markdown",
   "metadata": {},
   "source": [
    "# Mean field variance dynamics for noisy signal propagation"
   ]
  },
  {
   "cell_type": "code",
   "execution_count": 1,
   "metadata": {},
   "outputs": [],
   "source": [
    "# imports\n",
    "import os, sys, pickle\n",
    "import matplotlib\n",
    "import matplotlib.pyplot as plt\n",
    "import seaborn as sns\n",
    "import numpy as np\n",
    "from matplotlib.lines import Line2D\n",
    "from matplotlib.collections import LineCollection\n",
    "from matplotlib.colors import ListedColormap\n",
    "import matplotlib.lines as mlines\n",
    "\n",
    "# custom import\n",
    "from src.numpy_simulation import *\n",
    "# from src.simulation import *\n",
    "from src.viz import get_colours\n",
    "from src.utils import load_experiment\n",
    "from src.theory import depth\n",
    "from src.theory import critical_point\n",
    "\n",
    "# plot settings\n",
    "import matplotlib as mpl\n",
    "# mpl.rcParams['figure.figsize'] = [14.0, 6.0]\n",
    "mpl.rcParams['font.size'] = 100\n",
    "\n",
    "sns.set_context(\"paper\", font_scale=2)\n",
    "plt.rcParams['pdf.fonttype'] = 42\n",
    "plt.rcParams['text.usetex'] = True\n",
    "plt.rcParams['text.latex.unicode'] = True\n",
    "plt.rcParams['image.cmap'] = 'viridis'\n",
    "# plt.rcParams.update({'font.size': 50})\n",
    "\n",
    "# results directory\n",
    "relative_results_dir = \"results\"\n",
    "results_dir = os.path.join(relative_results_dir)"
   ]
  },
  {
   "cell_type": "markdown",
   "metadata": {},
   "source": [
    "## --- Variance map: Theory vs simulation ---"
   ]
  },
  {
   "cell_type": "code",
   "execution_count": 2,
   "metadata": {},
   "outputs": [
    {
     "name": "stdout",
     "output_type": "stream",
     "text": [
      "####### EXPERIMENT: dist:  none ;  None :  None ; activation:  tanh ; initialisation:  xavier ##############\n",
      "qmap calculations...\n",
      "Calculating Theory:\n"
     ]
    },
    {
     "data": {
      "application/vnd.jupyter.widget-view+json": {
       "model_id": "11bbc215c2ed480c9a269a841b308a8b",
       "version_major": 2,
       "version_minor": 0
      },
      "text/plain": [
       "HBox(children=(IntProgress(value=0, description='input lengths', max=25), HTML(value='')))"
      ]
     },
     "metadata": {},
     "output_type": "display_data"
    },
    {
     "name": "stdout",
     "output_type": "stream",
     "text": [
      "\n"
     ]
    },
    {
     "data": {
      "application/vnd.jupyter.widget-view+json": {
       "model_id": "852fdd1ba31c4b0ebccd94b461647c41",
       "version_major": 2,
       "version_minor": 0
      },
      "text/plain": [
       "HBox(children=(IntProgress(value=0, description='layers', max=14), HTML(value='')))"
      ]
     },
     "metadata": {},
     "output_type": "display_data"
    },
    {
     "name": "stdout",
     "output_type": "stream",
     "text": [
      "\n",
      "Simulating network\n",
      "Single layer sims...\n"
     ]
    },
    {
     "data": {
      "application/vnd.jupyter.widget-view+json": {
       "model_id": "c15a68f500bd4f5582bb055facbd8696",
       "version_major": 2,
       "version_minor": 0
      },
      "text/plain": [
       "HBox(children=(IntProgress(value=0, description='generate inputs', max=30), HTML(value='')))"
      ]
     },
     "metadata": {},
     "output_type": "display_data"
    },
    {
     "name": "stdout",
     "output_type": "stream",
     "text": [
      "\n"
     ]
    },
    {
     "data": {
      "application/vnd.jupyter.widget-view+json": {
       "model_id": "26b43b32f8054f6c87e943b5e447ed81",
       "version_major": 2,
       "version_minor": 0
      },
      "text/plain": [
       "HBox(children=(IntProgress(value=0, description='network inits', max=50), HTML(value='')))"
      ]
     },
     "metadata": {},
     "output_type": "display_data"
    },
    {
     "name": "stdout",
     "output_type": "stream",
     "text": [
      "\n",
      "####### EXPERIMENT: dist:  add gauss ;  std :  1 ; activation:  tanh ; initialisation:  xavier ##############\n",
      "qmap calculations...\n",
      "Calculating Theory:\n"
     ]
    },
    {
     "data": {
      "application/vnd.jupyter.widget-view+json": {
       "model_id": "71c6bd41b27146b18ea4e49d5fb6b487",
       "version_major": 2,
       "version_minor": 0
      },
      "text/plain": [
       "HBox(children=(IntProgress(value=0, description='input lengths', max=25), HTML(value='')))"
      ]
     },
     "metadata": {},
     "output_type": "display_data"
    },
    {
     "name": "stdout",
     "output_type": "stream",
     "text": [
      "\n"
     ]
    },
    {
     "data": {
      "application/vnd.jupyter.widget-view+json": {
       "model_id": "b6efeafa882d404e8d2626556414b308",
       "version_major": 2,
       "version_minor": 0
      },
      "text/plain": [
       "HBox(children=(IntProgress(value=0, description='layers', max=14), HTML(value='')))"
      ]
     },
     "metadata": {},
     "output_type": "display_data"
    },
    {
     "name": "stdout",
     "output_type": "stream",
     "text": [
      "\n",
      "Simulating network\n",
      "Single layer sims...\n"
     ]
    },
    {
     "data": {
      "application/vnd.jupyter.widget-view+json": {
       "model_id": "9a9bf6c6faca4db69ea292d33b13362e",
       "version_major": 2,
       "version_minor": 0
      },
      "text/plain": [
       "HBox(children=(IntProgress(value=0, description='generate inputs', max=30), HTML(value='')))"
      ]
     },
     "metadata": {},
     "output_type": "display_data"
    },
    {
     "name": "stdout",
     "output_type": "stream",
     "text": [
      "\n"
     ]
    },
    {
     "data": {
      "application/vnd.jupyter.widget-view+json": {
       "model_id": "dd85477df5ff4c4480816fe8b2d921bb",
       "version_major": 2,
       "version_minor": 0
      },
      "text/plain": [
       "HBox(children=(IntProgress(value=0, description='network inits', max=50), HTML(value='')))"
      ]
     },
     "metadata": {},
     "output_type": "display_data"
    },
    {
     "name": "stdout",
     "output_type": "stream",
     "text": [
      "\n",
      "####### EXPERIMENT: dist:  none ;  None :  None ; activation:  relu ; initialisation:  he ##############\n",
      "qmap calculations...\n",
      "Calculating Theory:\n"
     ]
    },
    {
     "data": {
      "application/vnd.jupyter.widget-view+json": {
       "model_id": "2b64fc2a20b6447fb5c066524353c07b",
       "version_major": 2,
       "version_minor": 0
      },
      "text/plain": [
       "HBox(children=(IntProgress(value=0, description='input lengths', max=25), HTML(value='')))"
      ]
     },
     "metadata": {},
     "output_type": "display_data"
    },
    {
     "name": "stdout",
     "output_type": "stream",
     "text": [
      "\n"
     ]
    },
    {
     "data": {
      "application/vnd.jupyter.widget-view+json": {
       "model_id": "978dfda4a5e34a9c9311cee1e27a0ff7",
       "version_major": 2,
       "version_minor": 0
      },
      "text/plain": [
       "HBox(children=(IntProgress(value=0, description='layers', max=14), HTML(value='')))"
      ]
     },
     "metadata": {},
     "output_type": "display_data"
    },
    {
     "name": "stdout",
     "output_type": "stream",
     "text": [
      "\n",
      "Simulating network\n",
      "Single layer sims...\n",
      "Setting activation to ReLU...\n"
     ]
    },
    {
     "data": {
      "application/vnd.jupyter.widget-view+json": {
       "model_id": "66f87126bbd842b08af656ee5eb6bac7",
       "version_major": 2,
       "version_minor": 0
      },
      "text/plain": [
       "HBox(children=(IntProgress(value=0, description='generate inputs', max=30), HTML(value='')))"
      ]
     },
     "metadata": {},
     "output_type": "display_data"
    },
    {
     "name": "stdout",
     "output_type": "stream",
     "text": [
      "\n"
     ]
    },
    {
     "data": {
      "application/vnd.jupyter.widget-view+json": {
       "model_id": "e3bdc4ded76a4e0b8d523d2d85af44c2",
       "version_major": 2,
       "version_minor": 0
      },
      "text/plain": [
       "HBox(children=(IntProgress(value=0, description='network inits', max=50), HTML(value='')))"
      ]
     },
     "metadata": {},
     "output_type": "display_data"
    },
    {
     "name": "stdout",
     "output_type": "stream",
     "text": [
      "\n",
      "####### EXPERIMENT: dist:  add gauss ;  std :  1 ; activation:  relu ; initialisation:  he ##############\n",
      "qmap calculations...\n",
      "Calculating Theory:\n"
     ]
    },
    {
     "data": {
      "application/vnd.jupyter.widget-view+json": {
       "model_id": "34d17f8f834f4d44a34aae72db5eb0d8",
       "version_major": 2,
       "version_minor": 0
      },
      "text/plain": [
       "HBox(children=(IntProgress(value=0, description='input lengths', max=25), HTML(value='')))"
      ]
     },
     "metadata": {},
     "output_type": "display_data"
    },
    {
     "name": "stdout",
     "output_type": "stream",
     "text": [
      "\n"
     ]
    },
    {
     "data": {
      "application/vnd.jupyter.widget-view+json": {
       "model_id": "fcda86fdc8d44a87b490d364595a1978",
       "version_major": 2,
       "version_minor": 0
      },
      "text/plain": [
       "HBox(children=(IntProgress(value=0, description='layers', max=14), HTML(value='')))"
      ]
     },
     "metadata": {},
     "output_type": "display_data"
    },
    {
     "name": "stdout",
     "output_type": "stream",
     "text": [
      "\n",
      "Simulating network\n",
      "Single layer sims...\n",
      "Setting activation to ReLU...\n"
     ]
    },
    {
     "data": {
      "application/vnd.jupyter.widget-view+json": {
       "model_id": "60eed132e8f84cc2ab4216b7c95424cc",
       "version_major": 2,
       "version_minor": 0
      },
      "text/plain": [
       "HBox(children=(IntProgress(value=0, description='generate inputs', max=30), HTML(value='')))"
      ]
     },
     "metadata": {},
     "output_type": "display_data"
    },
    {
     "name": "stdout",
     "output_type": "stream",
     "text": [
      "\n"
     ]
    },
    {
     "data": {
      "application/vnd.jupyter.widget-view+json": {
       "model_id": "a1a93edd441f49b990f36fc433acbb6d",
       "version_major": 2,
       "version_minor": 0
      },
      "text/plain": [
       "HBox(children=(IntProgress(value=0, description='network inits', max=50), HTML(value='')))"
      ]
     },
     "metadata": {},
     "output_type": "display_data"
    },
    {
     "name": "stdout",
     "output_type": "stream",
     "text": [
      "\n"
     ]
    }
   ],
   "source": [
    "experiments = [\n",
    "    {\"dist\": \"none\", \"noise\": (None, None), \"act\":\"tanh\", \"init\":\"xavier\"}, \n",
    "    {\"dist\": \"add gauss\", \"noise\": ('std', 1), \"act\":\"tanh\", \"init\":\"xavier\"},\n",
    "    {\"dist\": \"none\", \"noise\": (None, None), \"act\":\"relu\", \"init\":\"he\"},\n",
    "    {\"dist\": \"add gauss\", \"noise\": ('std', 1), \"act\":\"relu\", \"init\":\"he\"}\n",
    "]\n",
    "\n",
    "for i, experiment in enumerate(experiments):\n",
    "    dist = experiment['dist']\n",
    "    noise = experiment['noise']\n",
    "    act = experiment['act']\n",
    "    init = experiment['init']\n",
    "    \n",
    "    # run simulations for scenario\n",
    "    noisy_signal_prop_simulations(dist, noise, act, init, seed=i)"
   ]
  },
  {
   "cell_type": "code",
   "execution_count": 8,
   "metadata": {},
   "outputs": [
    {
     "data": {
      "image/png": "[encoded data removed]",
      "text/plain": [
       "<Figure size 1152x432 with 2 Axes>"
      ]
     },
     "metadata": {},
     "output_type": "display_data"
    }
   ],
   "source": [
    "# Dictionary for data that needs to be extracted\n",
    "\n",
    "tests = [{\n",
    "        \"distributions\": [{\"dist\": \"none\"}],\n",
    "        \"activations\": [\"tanh\"],\n",
    "        \"inits\": [\"xavier\"]\n",
    "    }, {\n",
    "        \"distributions\": [{\"dist\": \"add gauss\", \"std\": 1}],\n",
    "        \"activations\": [\"tanh\"],\n",
    "        \"inits\": [\"xavier\"]\n",
    "    }, {\n",
    "        \"distributions\": [{\"dist\": \"none\"}],\n",
    "        \"activations\": [\"relu\"],\n",
    "        \"inits\": [\"he\"]\n",
    "    }, {\n",
    "        \"distributions\": [{\"dist\": \"add gauss\", \"std\": 1}],\n",
    "        \"activations\": [\"relu\"],\n",
    "        \"inits\": [\"he\"]\n",
    "    }]\n",
    "\n",
    "\n",
    "############################################################################\n",
    "############################################################################\n",
    "# q - length / variance plots\n",
    "############################################################################\n",
    "############################################################################\n",
    "nq = 30\n",
    "qmax = 15\n",
    "qrange = np.linspace(0, qmax, nq)\n",
    "widxs = [0]\n",
    "bidxs = [0]\n",
    "n_hidden_layers = 16\n",
    "\n",
    "n_tests = len(tests)\n",
    "#pal = get_colours(10, 7)\n",
    "pal = get_colours(6, 7)[2:]\n",
    "test_data = []\n",
    "for i, test in enumerate(tests):\n",
    "    test_data.append(load_experiment(test, [\"q_maps\", \"single_layer_qmap_sim\", \"multi_layer_qmap_sim\"], \"results\"))\n",
    "\n",
    "fig = plt.figure(figsize=(16, 6))\n",
    "\n",
    "gs = plt.GridSpec(1, 2)\n",
    "ax1 = plt.subplot(gs[0, 0])\n",
    "ax2 = plt.subplot(gs[0, 1])\n",
    "\n",
    "# Add unity line\n",
    "ax1.plot((0, qmax), (0, qmax), '--', color='k', zorder=900, dashes=(4, 8), label=\"Identity line\")\n",
    "ax1.set_xlim(0, qmax)\n",
    "ax1.set_ylim(0, qmax)\n",
    "ax1.set_xlabel('Input variance ($q^{l-1})$')\n",
    "ax1.set_ylabel('Output variance ($q^l$)')\n",
    "ax1.set_title(\"Iterative length map\")\n",
    "\n",
    "# axis 2\n",
    "ax2.set_xlim(0, qmax-1) #n_hidden_layers-1)\n",
    "ax2.set_ylim(0, qmax)\n",
    "ax2.set_xlabel('Layer ($l$)')\n",
    "ax2.set_ylabel('Variance ($q^{l})$')\n",
    "ax2.set_title(\"Dynamics of $q$\")\n",
    "\n",
    "nn = len(test_data)\n",
    "col_i = 0\n",
    "shade_i = 5\n",
    "for test, attr in zip(test_data, tests):\n",
    "    for dist in attr[\"distributions\"]:\n",
    "        for act in attr[\"activations\"]:\n",
    "            if dist['dist'] == \"none\":\n",
    "                if act == \"tanh\":\n",
    "                    label = \"tanh - None\"\n",
    "                    col_i = 0\n",
    "                else:\n",
    "                    label = \"ReLU - None\"\n",
    "                    col_i = 2\n",
    "            elif \"gauss\" in dist['dist']: \n",
    "                if act == \"tanh\":\n",
    "                    label = \"tanh - Add Gauss $(\\sigma^2_\\epsilon = $ \" + str(dist['std']) + \")\"\n",
    "                    col_i = 1\n",
    "                else:\n",
    "                    label = \"ReLU - Add Gauss $(\\sigma^2_\\epsilon = $ \" + str(dist['std']) + \")\"\n",
    "                    col_i = 3\n",
    "            for init in attr[\"inits\"]:\n",
    "                dashes = (None, None)\n",
    "                \n",
    "                \n",
    "                # extract test data\n",
    "                qmaps = test[dist['dist']][act][init]['q_maps']['qmaps']\n",
    "                single_layer_sims = test[dist['dist']][act][init]['single_layer_qmap_sim']\n",
    "                multi_layer_sims = test[dist['dist']][act][init]['multi_layer_qmap_sim']['qmaps_sim']\n",
    "                multi_layer_theory = test[dist['dist']][act][init]['multi_layer_qmap_sim']['theory']\n",
    "                \n",
    "\n",
    "                ############################################################################\n",
    "                # left\n",
    "                ############################################################################\n",
    "                for w, b in zip(widxs, bidxs):\n",
    "\n",
    "                    # plot means of simulation (as dots)\n",
    "                    mu = single_layer_sims[w, b].mean(-1).mean(-2)\n",
    "                    ax1.plot(qrange, mu, w, b, marker='o', ls='none', markersize=1, alpha=0.9, zorder=0, c=pal[col_i][shade_i])\n",
    "\n",
    "                    # add confidence interval around simulation\n",
    "                    std = single_layer_sims[w, b].mean(-1).std(-2)\n",
    "                    ax1.fill_between(qrange, mu-std, mu+std, alpha=0.4, label='_nolegend_', color=pal[col_i][3])\n",
    "\n",
    "                    # theory line\n",
    "                    ax1.plot(qrange, qmaps[0, 0, :, 1], c=pal[col_i][shade_i], label=label, dashes=dashes)\n",
    "                    \n",
    "\n",
    "                ############################################################################\n",
    "                # right\n",
    "                ############################################################################\n",
    "                q = 1\n",
    "                xx = np.arange(multi_layer_sims.shape[-2])\n",
    "                for w, b in zip(widxs, bidxs):\n",
    "                    # confidence intervals\n",
    "                    mu = multi_layer_sims[w, b].mean(axis=-1).mean(axis=0)\n",
    "                    std = multi_layer_sims[w, b].mean(axis=-1).std(axis=0)\n",
    "\n",
    "                    # plot theory\n",
    "                    ax2.plot(multi_layer_theory, c=pal[col_i][shade_i], label=\"Theory\")\n",
    "\n",
    "                    # plot the simulation\n",
    "                    ax2.fill_between(xx, mu-std, mu+std, alpha=0.2, label='_nolegend_', color=pal[col_i][3])\n",
    "\n",
    "                    # dots for mean\n",
    "                    ax2.plot(xx, mu, 'o', markersize=4, alpha=0.9, color=pal[col_i][shade_i], label=\"Simulation\")\n",
    "\n",
    "##############\n",
    "# add labels #\n",
    "##############\n",
    "fig.text(0.02, 0.95, \"(a)\", fontsize=20)\n",
    "fig.text(0.52, 0.95, \"(b)\", fontsize=20)\n",
    "\n",
    "ax1.legend(prop={'size': 15})\n",
    "plt.gcf().tight_layout()\n",
    "plt.savefig(\"tanh.pdf\")"
   ]
  },
  {
   "cell_type": "code",
   "execution_count": null,
   "metadata": {},
   "outputs": [],
   "source": []
  }
 ],
 "metadata": {
  "kernelspec": {
   "display_name": "Python [default]",
   "language": "python",
   "name": "python3"
  },
  "language_info": {
   "codemirror_mode": {
    "name": "ipython",
    "version": 3
   },
   "file_extension": ".py",
   "mimetype": "text/x-python",
   "name": "python",
   "nbconvert_exporter": "python",
   "pygments_lexer": "ipython3",
   "version": "3.6.6"
  }
 },
 "nbformat": 4,
 "nbformat_minor": 2
}
