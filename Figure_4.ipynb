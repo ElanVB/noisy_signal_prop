{
 "cells": [
  {
   "cell_type": "markdown",
   "metadata": {},
   "source": [
    "# Figure 4\n",
    "\n",
    "### TODO: make sure code works"
   ]
  },
  {
   "cell_type": "code",
   "execution_count": 10,
   "metadata": {
    "collapsed": true
   },
   "outputs": [],
   "source": [
    "import numpy as np\n",
    "import matplotlib.pyplot as plt\n",
    "\n",
    "from src.theory import fixed_point\n",
    "from src.theory import c_map\n",
    "from src.theory import c_map_slope"
   ]
  },
  {
   "cell_type": "code",
   "execution_count": 11,
   "metadata": {},
   "outputs": [
    {
     "ename": "FileNotFoundError",
     "evalue": "[Errno 2] No such file or directory: 'src/results/under_overflow.pk'",
     "output_type": "error",
     "traceback": [
      "\u001b[0;31m---------------------------------------------------------------------------\u001b[0m",
      "\u001b[0;31mFileNotFoundError\u001b[0m                         Traceback (most recent call last)",
      "\u001b[0;32m<ipython-input-11-926787e734e3>\u001b[0m in \u001b[0;36m<module>\u001b[0;34m()\u001b[0m\n\u001b[1;32m     12\u001b[0m \u001b[0;34m\u001b[0m\u001b[0m\n\u001b[1;32m     13\u001b[0m \u001b[0mfig\u001b[0m\u001b[0;34m,\u001b[0m \u001b[0;34m[\u001b[0m\u001b[0max1\u001b[0m\u001b[0;34m,\u001b[0m \u001b[0max2\u001b[0m\u001b[0;34m]\u001b[0m \u001b[0;34m=\u001b[0m \u001b[0mplt\u001b[0m\u001b[0;34m.\u001b[0m\u001b[0msubplots\u001b[0m\u001b[0;34m(\u001b[0m\u001b[0;36m1\u001b[0m\u001b[0;34m,\u001b[0m \u001b[0;36m2\u001b[0m\u001b[0;34m,\u001b[0m \u001b[0mfigsize\u001b[0m\u001b[0;34m=\u001b[0m\u001b[0;34m(\u001b[0m\u001b[0;36m12\u001b[0m\u001b[0;34m,\u001b[0m \u001b[0;36m5\u001b[0m\u001b[0;34m)\u001b[0m\u001b[0;34m)\u001b[0m\u001b[0;34m\u001b[0m\u001b[0m\n\u001b[0;32m---> 14\u001b[0;31m \u001b[0mpickle_in\u001b[0m \u001b[0;34m=\u001b[0m \u001b[0mopen\u001b[0m\u001b[0;34m(\u001b[0m\u001b[0;34m\"src/results/under_overflow.pk\"\u001b[0m\u001b[0;34m,\u001b[0m\u001b[0;34m\"rb\"\u001b[0m\u001b[0;34m)\u001b[0m\u001b[0;34m\u001b[0m\u001b[0m\n\u001b[0m\u001b[1;32m     15\u001b[0m \u001b[0mexample_dict\u001b[0m \u001b[0;34m=\u001b[0m \u001b[0mpickle\u001b[0m\u001b[0;34m.\u001b[0m\u001b[0mload\u001b[0m\u001b[0;34m(\u001b[0m\u001b[0mpickle_in\u001b[0m\u001b[0;34m)\u001b[0m\u001b[0;34m[\u001b[0m\u001b[0;34m:\u001b[0m\u001b[0;36m120\u001b[0m\u001b[0;34m]\u001b[0m\u001b[0;34m\u001b[0m\u001b[0m\n\u001b[1;32m     16\u001b[0m \u001b[0mp\u001b[0m \u001b[0;34m=\u001b[0m \u001b[0;36m0.6\u001b[0m\u001b[0;34m\u001b[0m\u001b[0m\n",
      "\u001b[0;31mFileNotFoundError\u001b[0m: [Errno 2] No such file or directory: 'src/results/under_overflow.pk'"
     ]
    }
   ],
   "source": [
    "rates = np.linspace(0.1, 1, 100)\n",
    "mu2s = 1/rates\n",
    "fps = []\n",
    "fp_slopes = []\n",
    "for p in rates:\n",
    "    mu2 = 1/p\n",
    "    fpoint = fixed_point(c_map, p, p*2, mu2)\n",
    "    fps.append(fpoint)\n",
    "\n",
    "    slope = c_map_slope(fpoint, p*2)\n",
    "    fp_slopes.append(slope)\n",
    "\n",
    "fig, [ax1, ax2] = plt.subplots(1, 2, figsize=(12, 5))\n",
    "pickle_in = open(\"src/results/under_overflow.pk\",\"rb\")\n",
    "example_dict = pickle.load(pickle_in)[:120]\n",
    "p = 0.6\n",
    "num_layers = 1000\n",
    "nets = np.linspace(10, num_layers, 12, dtype=int)[:10]\n",
    "inits = np.round(np.linspace(0.1, 2.5, 12),1)\n",
    "xv, yv = np.meshgrid(nets, inits, sparse=False, indexing='ij')\n",
    "\n",
    "Z1 = np.log(np.array(example_dict))\n",
    "\n",
    "bad_indices = np.isnan(Z1) + np.isinf(Z1)\n",
    "Z1 = np.ma.array(Z1, mask=bad_indices)\n",
    "cmap = matplotlib.cm.get_cmap(name=\"Spectral_r\")\n",
    "cmap.set_bad('white', 1.)\n",
    "\n",
    "pcm = ax1.pcolormesh(yv-0.1, xv-0.1, Z1.reshape(10,12), cmap=cmap)\n",
    "cbar = fig.colorbar(pcm, ax=ax1, extend='max')\n",
    "cbar.ax.set_title('$log(q^l)$')\n",
    "\n",
    "ax1.set_xlabel('Weight initialisation ($\\sigma^2_w$)')\n",
    "\n",
    "ax1.set_ylabel(\"Number of layers\")\n",
    "ax1.set_title(\"Variance propagation depth:\\ndropout with $p$ = 0.6,\\ncrit. init. at $\\sigma^2_w = 1.2$\")\n",
    "\n",
    "max_depth = 0\n",
    "init_theory = np.linspace(0, 2.4, 1000)\n",
    "depth_per_p_theory = depth(\"Dropout\", init_theory, p)\n",
    "max_depth = np.max([max_depth, np.max(depth_per_p_theory)])\n",
    "ax1.plot(init_theory, depth_per_p_theory, label=\"Theory\", c='cyan', linewidth=3)\n",
    "\n",
    "# plot critical point\n",
    "crit_point = critical_point(\"Dropout\", p)\n",
    "ax1.plot([crit_point,]*2, [0, num_layers], color=\"black\", linestyle=\"--\", label=\"criticality\")\n",
    "\n",
    "ax1.set_ylim(0, 820)\n",
    "ax1.legend()\n",
    "ax1.set_xticks(inits[:-1:2])\n",
    "ax1.text(0.1, 400, 'Underflow', fontsize=10)\n",
    "ax1.text(1.7, 400, 'Overflow', fontsize=10)\n",
    "\n",
    "pickle_in = open(\"src/results/val_loss_per_depth.pk\",\"rb\")\n",
    "example_dict = np.array(pickle.load(pickle_in))[:,1]\n",
    "rates = np.linspace(0.1, 1, 100)\n",
    "\n",
    "nets = np.linspace(2, 40, 10, dtype=int)\n",
    "d_rates = 2*np.linspace(0.1, 1, 10)\n",
    "xv, yv = np.meshgrid(nets, d_rates, sparse=False, indexing='ij')\n",
    "\n",
    "Z1 = np.array(example_dict)\n",
    "pcm = ax2.pcolormesh(yv+0.1, xv+0.1, Z1.reshape(10,10), cmap='Spectral_r')\n",
    "cbar1 = fig.colorbar(pcm, ax=ax2, extend='max')\n",
    "cbar1.ax.set_title('Val. loss')\n",
    "\n",
    "# Now do a second plot coloring the curve using a continuous colormap\n",
    "t = rates #np.linspace(0, 10, 200)\n",
    "x = 2*rates\n",
    "y = 6*depth_scale(fp_slopes)\n",
    "points = np.array([x, y]).T.reshape(-1, 1, 2)\n",
    "segments = np.concatenate([points[:-1], points[1:]], axis=1)\n",
    "\n",
    "lc = LineCollection(segments, cmap=plt.get_cmap('Greens'))\n",
    "lc.set_array(t)\n",
    "lc.set_linewidth(3)\n",
    "cbar2 = fig.colorbar(lc, ax=ax2)\n",
    "cbar2.ax.set_title('p')\n",
    "\n",
    "ax2.add_collection(lc)\n",
    "ax2.set_xlabel(\"Critical initialisation for $p$ ($\\sigma^2_w$)\")\n",
    "ax2.set_ylabel(\"Number of layers\")\n",
    "ax2.text(1.5, 19, r'$6\\xi_c$', fontsize=12, color=\"white\")\n",
    "ax2.set_title(\"Depth at criticality\")\n",
    "ax2.set_xlim(0.3, 2.1)\n",
    "ax2.set_ylim(2, 40)\n",
    "# ax2.legend(loc=(0.1, 0.65))\n",
    "# plt.show()\n",
    "plt.gcf().tight_layout()\n",
    "plt.savefig(\"depth_scales.pdf\")"
   ]
  },
  {
   "cell_type": "code",
   "execution_count": null,
   "metadata": {
    "collapsed": true
   },
   "outputs": [],
   "source": []
  }
 ],
 "metadata": {
  "kernelspec": {
   "display_name": "Python 3",
   "language": "python",
   "name": "python3"
  },
  "language_info": {
   "codemirror_mode": {
    "name": "ipython",
    "version": 3
   },
   "file_extension": ".py",
   "mimetype": "text/x-python",
   "name": "python",
   "nbconvert_exporter": "python",
   "pygments_lexer": "ipython3",
   "version": "3.6.3"
  }
 },
 "nbformat": 4,
 "nbformat_minor": 2
}
